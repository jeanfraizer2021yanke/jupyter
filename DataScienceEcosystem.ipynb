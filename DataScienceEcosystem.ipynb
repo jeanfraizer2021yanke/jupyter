{
  "metadata": {
    "kernelspec": {
      "name": "python",
      "display_name": "Python (Pyodide)",
      "language": "python"
    },
    "language_info": {
      "codemirror_mode": {
        "name": "python",
        "version": 3
      },
      "file_extension": ".py",
      "mimetype": "text/x-python",
      "name": "python",
      "nbconvert_exporter": "python",
      "pygments_lexer": "ipython3",
      "version": "3.8"
    }
  },
  "nbformat_minor": 5,
  "nbformat": 4,
  "cells": [
    {
      "id": "aa63a91b-99e0-4c87-b314-adae74d18508",
      "cell_type": "markdown",
      "source": "# Data Science Tools and Ecosystem",
      "metadata": {}
    },
    {
      "id": "f05721d8-5fd6-4299-9bee-3c51915b58a4",
      "cell_type": "markdown",
      "source": "**Objectives:**\n\n- List popular languages for Data Science.\n- Identify common libraries used in Data Science.\n- Understand key data science tools and their uses.\n- Learn how to evaluate arithmetic expressions in Python.\n- Explore basic data science workflows and environments.\n",
      "metadata": {}
    },
    {
      "id": "7765e4ac-623f-4b90-9753-a17120bf7518",
      "cell_type": "markdown",
      "source": "## In this notebook, Data Science Tools and Ecosystem are summarized.",
      "metadata": {}
    },
    {
      "id": "0828ac9e-d9ab-4efa-a80d-94cbed49d520",
      "cell_type": "markdown",
      "source": "### Some of the popular languages used in data science include: \n###     Python\n###     R\n###     SQL\n###     Matlab\n###     Java",
      "metadata": {}
    },
    {
      "id": "259572ad-823a-4ed0-9858-d6edb24e42a4",
      "cell_type": "markdown",
      "source": "#### Some of the popular languages used in data science include:\n#### Pandas\n#### Numpy\n#### Matplotlib\n#### Tensorflow",
      "metadata": {}
    },
    {
      "id": "61dd82e6-dbba-410f-b129-a5426cc3749a",
      "cell_type": "markdown",
      "source": "| Data Science Tools   |\n|----------------------|\n| Jupyter Notebook     |\n| RStudio              |\n| Apache Zeppelin      |\n",
      "metadata": {}
    },
    {
      "id": "143cb24d-51da-49f7-a06f-e01af6f6122b",
      "cell_type": "markdown",
      "source": "### Below are a few examples of evaluating arithmetic expressions in Python\n### x = 4\n### y = 5\n### z = 6 \n#   results = x + y + z\n",
      "metadata": {}
    },
    {
      "id": "9a0e1ee1-153f-4b31-a1e1-8681a19dad8c",
      "cell_type": "code",
      "source": "(3*4)+5\n# This a simple arithmetic expression to mutiply then add integers",
      "metadata": {
        "trusted": true
      },
      "outputs": [
        {
          "execution_count": 2,
          "output_type": "execute_result",
          "data": {
            "text/plain": "17"
          },
          "metadata": {}
        }
      ],
      "execution_count": 2
    },
    {
      "id": "b0cb7164-2860-46a6-a72a-26919e13c663",
      "cell_type": "code",
      "source": "hours = 200 / 60\nprint(hours) \n# This will convert 200 minutes to hours by diving by 60",
      "metadata": {
        "trusted": true,
        "scrolled": true
      },
      "outputs": [
        {
          "name": "stdout",
          "output_type": "stream",
          "text": "3.3333333333333335\n"
        }
      ],
      "execution_count": 3
    },
    {
      "id": "9d5b676e-89c6-435b-a25c-5225d5f30afa",
      "cell_type": "markdown",
      "source": "## Author\nJean Yankee",
      "metadata": {}
    },
    {
      "id": "bb446cf7-e5e7-4dfe-b33a-0ecb4d6b13f8",
      "cell_type": "code",
      "source": "",
      "metadata": {
        "trusted": true
      },
      "outputs": [],
      "execution_count": null
    }
  ]
}